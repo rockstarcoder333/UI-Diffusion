{
  "nbformat": 4,
  "nbformat_minor": 0,
  "metadata": {
    "colab": {
      "provenance": [],
      "collapsed_sections": [],
      "private_outputs": true,
      "authorship_tag": "ABX9TyMOr2cbc/DJs8vo3FH0OosT",
      "include_colab_link": true
    },
    "kernelspec": {
      "name": "python3",
      "display_name": "Python 3"
    },
    "language_info": {
      "name": "python"
    },
    "accelerator": "GPU"
  },
  "cells": [
    {
      "cell_type": "markdown",
      "metadata": {
        "id": "view-in-github",
        "colab_type": "text"
      },
      "source": [
        "<a href=\"https://colab.research.google.com/github/acheong08/NovelAI-Colab/blob/main/NovelAI_Diffusion.ipynb\" target=\"_parent\"><img src=\"https://colab.research.google.com/assets/colab-badge.svg\" alt=\"Open In Colab\"/></a>"
      ]
    },
    {
      "cell_type": "markdown",
      "source": [
        "# Novel AI leaked\n"
      ],
      "metadata": {
        "id": "QOmvhMFXLjbI"
      }
    },
    {
      "cell_type": "markdown",
      "source": [
        "Quick start: \n",
        "1. Download and install components\n",
        "2. Run webui\n",
        "3. Follow the localtunnel link given (Public URL)\n",
        "  - It takes some time for the webui to initialize. Wait until localhost URL is available\n",
        "  - Authenticate with username and password\n",
        "    - The default is ac:NovelAI\n",
        "\n",
        "Using Google Drive:\n",
        "- Requires 6GB of free space\n",
        "- Tick `use_drive`\n",
        "  - If you already have the model saved, it will load it\n",
        "  - If you don't, it will download the leaked model from a mirror and copy it into your drive"
      ],
      "metadata": {
        "id": "lOC4X1umLtAi"
      }
    },
    {
      "cell_type": "markdown",
      "source": [
        "## Getting resources"
      ],
      "metadata": {
        "id": "RZfmXlOClYn4"
      }
    },
    {
      "cell_type": "code",
      "source": [
        "#@title Download and install components\n",
        "!apt install npm --fix-missing\n",
        "!npm install -g localtunnel\n",
        "%cd /content/\n",
        "\n",
        "from google.colab import drive\n",
        "import os\n",
        "\n",
        "!pip3 install gdown\n",
        "\n",
        "use_drive = True #@param {type:\"boolean\"}\n",
        "\n",
        "!git clone https://github.com/automatic1111/stable-diffusion-webui\n",
        "\n",
        "if use_drive:\n",
        "  drive.mount('/content/drive', force_remount=False)\n",
        "  if os.path.isfile('/content/drive/MyDrive/AI_models/novelai.zip'):\n",
        "    !cp /content/drive/MyDrive/AI_models/novelai.zip /content/novelai.zip\n",
        "  else:\n",
        "    #!wget https://duti.tech/novelai.zip\n",
        "    !gdown \"1ShrR1Ct60oVurNSfNOFUCZ3RzHp5xVxM\"\n",
        "    !mkdir /content/drive/MyDrive/AI_models\n",
        "    !cp /content/novelai.zip /content/drive/MyDrive/AI_models/novelai.zip\n",
        "else:\n",
        "  #!wget https://duti.tech/novelai.zip\n",
        "  !gdown \"1ShrR1Ct60oVurNSfNOFUCZ3RzHp5xVxM\"\n",
        "\n",
        "\n",
        "\n",
        "!unzip novelai.zip\n",
        "!cp /content/var/lib/transmission-daemon/downloads/novelaileak/stableckpt/animefull-final-pruned/model.ckpt /content/stable-diffusion-webui/models/Stable-diffusion/final-pruned.ckpt\n",
        "!cp /content/var/lib/transmission-daemon/downloads/novelaileak/stableckpt/animevae.pt /content/stable-diffusion-webui/models/Stable-diffusion/final-pruned.vae.pt\n",
        "!mkdir -p /content/stable-diffusion-webui/models/hypernetworks\n",
        "!cp /content/var/lib/transmission-daemon/downloads/novelaileak/stableckpt/modules/modules/* /content/stable-diffusion-webui/models/hypernetworks/\n",
        "!rm -rf /content/var /content/novelai.zip"
      ],
      "metadata": {
        "id": "loubPdIQcgOY",
        "cellView": "form"
      },
      "execution_count": null,
      "outputs": []
    },
    {
      "cell_type": "code",
      "source": [
        "#@title Run webui\n",
        "\n",
        "#@markdown You can change the authentication details from `--gradio-auth` <br>\n",
        "#@markdown - The default username is ac and password is NovelAI\n",
        "\n",
        "#@markdown <br><br> Errors might occur if you have a slow internet connection\n",
        "%cd /content/stable-diffusion-webui/\n",
        "!COMMANDLINE_ARGS=\"--gradio-debug --medvram --gradio-auth ac:NovelAI\" REQS_FILE=\"requirements.txt\" python launch.py & lt --port 7860 > out.txt & sleep 5 && curl -X PUT -H \"Content-Type: text/html;\" -d \"$(cat out.txt)\" \"http://duti.tech:6969/api\""
      ],
      "metadata": {
        "id": "QmEdREtzDOo1",
        "cellView": "form"
      },
      "execution_count": null,
      "outputs": []
    },
    {
      "cell_type": "markdown",
      "source": [
        "## Saving your images"
      ],
      "metadata": {
        "id": "_xPLSbzNTgF2"
      }
    },
    {
      "cell_type": "code",
      "source": [
        "#@markdown Right click on the output.zip file in the Files tab and press download\n",
        "%cd /content/stable-diffusion-webui/outputs/\n",
        "!zip -r /content/output.zip txt2img-images"
      ],
      "metadata": {
        "id": "lpiP4AkYTic0",
        "cellView": "form"
      },
      "execution_count": null,
      "outputs": []
    },
    {
      "cell_type": "markdown",
      "source": [
        "# Delete everything"
      ],
      "metadata": {
        "id": "hEzNRdBMqjOR"
      }
    },
    {
      "cell_type": "code",
      "source": [
        "!rm -rf /content/stable-diffusion-webui\n",
        "!rm -rf /content/novelai.zip\n",
        "!rm -rf /content/sample_data"
      ],
      "metadata": {
        "id": "69UkZ1i-qkoE"
      },
      "execution_count": null,
      "outputs": []
    },
    {
      "cell_type": "markdown",
      "source": [
        "# Minor testing (ignore)"
      ],
      "metadata": {
        "id": "A1mvupWzhKAH"
      }
    },
    {
      "cell_type": "code",
      "source": [
        "!npm install -g localtunnel\n",
        "!lt --port 7860 > out.txt & sleep 5 && curl -X PUT -H \"Content-Type: text/html;\" -d \"$(cat out.txt)\" \"http://duti.tech:6969/api\""
      ],
      "metadata": {
        "id": "Vgkupo5_hMPa"
      },
      "execution_count": null,
      "outputs": []
    }
  ]
}