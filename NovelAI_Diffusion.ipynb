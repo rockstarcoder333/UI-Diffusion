{
  "nbformat": 4,
  "nbformat_minor": 0,
  "metadata": {
    "colab": {
      "provenance": [],
      "collapsed_sections": [],
      "authorship_tag": "ABX9TyOJWSdFE9wrkAqlJHoaVDJ8",
      "include_colab_link": true
    },
    "kernelspec": {
      "name": "python3",
      "display_name": "Python 3"
    },
    "language_info": {
      "name": "python"
    },
    "accelerator": "GPU"
  },
  "cells": [
    {
      "cell_type": "markdown",
      "metadata": {
        "id": "view-in-github",
        "colab_type": "text"
      },
      "source": [
        "<a href=\"https://colab.research.google.com/github/acheong08/NovelAI-Colab/blob/main/NovelAI_Diffusion.ipynb\" target=\"_parent\"><img src=\"https://colab.research.google.com/assets/colab-badge.svg\" alt=\"Open In Colab\"/></a>"
      ]
    },
    {
      "cell_type": "markdown",
      "source": [
        "# Novel AI leaked\n"
      ],
      "metadata": {
        "id": "QOmvhMFXLjbI"
      }
    },
    {
      "cell_type": "markdown",
      "source": [
        "Quick start: \n",
        "1. Download and install components\n",
        "2. Run webui\n",
        "3. Follow the gradio link given (Public URL)\n",
        "\n",
        "Using Google Drive:\n",
        "- Requires 6GB of free space\n",
        "- Tick `use_drive`\n",
        "  - If you already have the model saved, it will load it\n",
        "  - If you don't, it will download the leaked model from a mirror and copy it into your drive"
      ],
      "metadata": {
        "id": "lOC4X1umLtAi"
      }
    },
    {
      "cell_type": "markdown",
      "source": [
        "## Getting resources"
      ],
      "metadata": {
        "id": "RZfmXlOClYn4"
      }
    },
    {
      "cell_type": "code",
      "source": [
        "#@title Download and install components\n",
        "from google.colab import drive\n",
        "import os\n",
        "%cd /content/\n",
        "use_drive = True #@param {type:\"boolean\"}\n",
        "!git clone https://github.com/automatic1111/stable-diffusion-webui\n",
        "if use_drive:\n",
        "  drive.mount('/content/drive', force_remount=False)\n",
        "  if os.path.isfile('/content/drive/MyDrive/AI_models/novelai.zip'):\n",
        "    !cp /content/drive/MyDrive/AI_models/novelai.zip /content/novelai.zip\n",
        "  else:\n",
        "    !wget https://duti.tech/novelai.zip\n",
        "    !mkdir /content/drive/MyDrive/AI_models\n",
        "    !cp /content/novelai.zip /content/drive/MyDrive/AI_models/novelai.zip\n",
        "else:\n",
        "  !wget https://duti.tech/novelai.zip\n",
        "\n",
        "!unzip novelai.zip\n",
        "!cp /content/var/lib/transmission-daemon/downloads/novelaileak/stableckpt/animefull-final-pruned/model.ckpt /content/stable-diffusion-webui/models/Stable-diffusion/final-pruned.ckpt\n",
        "!cp /content/var/lib/transmission-daemon/downloads/novelaileak/stableckpt/animevae.pt /content/stable-diffusion-webui/models/Stable-diffusion/final-pruned.vae.pt\n",
        "!mkdir -p /content/stable-diffusion-webui/models/hypernetworks\n",
        "!cp /content/var/lib/transmission-daemon/downloads/novelaileak/stableckpt/modules/modules/* /content/stable-diffusion-webui/models/hypernetworks/\n",
        "!rm -rf /content/var /content/novelai.zip"
      ],
      "metadata": {
        "id": "loubPdIQcgOY"
      },
      "execution_count": null,
      "outputs": []
    },
    {
      "cell_type": "markdown",
      "source": [
        "## Run webui"
      ],
      "metadata": {
        "id": "i2SbReBbDKxc"
      }
    },
    {
      "cell_type": "code",
      "source": [
        "%cd /content/stable-diffusion-webui/\n",
        "!COMMANDLINE_ARGS=\"--share --gradio-debug --medvram\" REQS_FILE=\"requirements.txt\" python launch.py"
      ],
      "metadata": {
        "id": "QmEdREtzDOo1",
        "colab": {
          "base_uri": "https://localhost:8080/"
        },
        "outputId": "3f3f7ca4-0664-48c1-8174-f92c890e2171"
      },
      "execution_count": null,
      "outputs": [
        {
          "output_type": "stream",
          "name": "stdout",
          "text": [
            "/content/stable-diffusion-webui\n",
            "Python 3.7.14 (default, Sep  8 2022, 00:06:44) \n",
            "[GCC 7.5.0]\n",
            "Commit hash: 6be32b31d181e42c639dad3451229aa7b9cfd1cf\n",
            "Installing gfpgan\n",
            "Installing clip\n",
            "Cloning Stable Diffusion into repositories/stable-diffusion...\n",
            "Cloning Taming Transformers into repositories/taming-transformers...\n",
            "Cloning K-diffusion into repositories/k-diffusion...\n",
            "Cloning CodeFormer into repositories/CodeFormer...\n",
            "Cloning BLIP into repositories/BLIP...\n",
            "Installing requirements for CodeFormer\n",
            "Installing requirements for Web UI\n"
          ]
        }
      ]
    },
    {
      "cell_type": "markdown",
      "source": [
        "## Saving your images"
      ],
      "metadata": {
        "id": "_xPLSbzNTgF2"
      }
    },
    {
      "cell_type": "markdown",
      "source": [
        "Right click on the output.zip file in the Files tab and press download"
      ],
      "metadata": {
        "id": "UBYyOwVmTy8q"
      }
    },
    {
      "cell_type": "code",
      "source": [
        "%cd /content/stable-diffusion-webui/outputs/\n",
        "!zip -r /content/output.zip txt2img-images"
      ],
      "metadata": {
        "id": "lpiP4AkYTic0"
      },
      "execution_count": null,
      "outputs": []
    },
    {
      "cell_type": "markdown",
      "source": [
        "# Delete everything"
      ],
      "metadata": {
        "id": "hEzNRdBMqjOR"
      }
    },
    {
      "cell_type": "code",
      "source": [
        "!rm -rf /content/stable-diffusion-webui"
      ],
      "metadata": {
        "id": "69UkZ1i-qkoE"
      },
      "execution_count": null,
      "outputs": []
    }
  ]
}