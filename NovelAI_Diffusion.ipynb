{
  "nbformat": 4,
  "nbformat_minor": 0,
  "metadata": {
    "colab": {
      "provenance": [],
      "collapsed_sections": [],
      "private_outputs": true,
      "authorship_tag": "ABX9TyOvXMXxKrxUJUA/3q2lKqpx",
      "include_colab_link": true
    },
    "kernelspec": {
      "name": "python3",
      "display_name": "Python 3"
    },
    "language_info": {
      "name": "python"
    },
    "accelerator": "GPU"
  },
  "cells": [
    {
      "cell_type": "markdown",
      "metadata": {
        "id": "view-in-github",
        "colab_type": "text"
      },
      "source": [
        "<a href=\"https://colab.research.google.com/github/acheong08/NovelAI-Colab/blob/main/NovelAI_Diffusion.ipynb\" target=\"_parent\"><img src=\"https://colab.research.google.com/assets/colab-badge.svg\" alt=\"Open In Colab\"/></a>"
      ]
    },
    {
      "cell_type": "markdown",
      "source": [
        "# Novel AI leaked\n"
      ],
      "metadata": {
        "id": "QOmvhMFXLjbI"
      }
    },
    {
      "cell_type": "markdown",
      "source": [
        "### [Star me on GitHub](https://github.com/acheong08/NovelAI-Colab)\n",
        "# Quick start: \n",
        "1. Download and install components\n",
        "2. Run webui\n",
        "3. Follow the localtunnel link given (Public URL)\n",
        "  - It takes some time for the webui to initialize. Wait until localhost URL is available\n",
        "  - Authenticate with username and password\n",
        "    - The default is ac:NovelAI\n",
        "\n",
        "Using Google Drive:\n",
        "- Requires 6GB of free space\n",
        "- Tick `use_drive`\n",
        "  - If you already have the model saved, it will load it\n",
        "  - If you don't, it will download the leaked model from a mirror and copy it into your drive\n",
        "\n",
        "\n",
        "# !!! Common Errors !!!\n",
        "If you get \n",
        "```\n",
        "AssertionError: Torch is not able to use GPU; add --skip-torch-cuda-test to COMMANDLINE_ARGS variable to disable this check\n",
        "```\n",
        "\n",
        "Remember to enable your GPU in the \n",
        "\n",
        "Menu bar → Runtime → Change runtime type\n",
        "\n",
        "<br><br>\n",
        "If you are unable to download the models, it might have been taken down. Please notify me via GitHub issues\n",
        "\n",
        "<font size=\"1\">\n",
        "<sup>Privacy: You can opt out of data collection in the associated code blocks</sup>\n",
        "</font>"
      ],
      "metadata": {
        "id": "lOC4X1umLtAi"
      }
    },
    {
      "cell_type": "markdown",
      "source": [
        "## Getting resources"
      ],
      "metadata": {
        "id": "RZfmXlOClYn4"
      }
    },
    {
      "cell_type": "code",
      "source": [
        "#@title Check dependencies\n",
        "import os\n",
        "\n",
        "if int(os.environ[\"COLAB_GPU\"]) > 0:\n",
        "  print(\"A GPU is connected.\")\n",
        "  print(\"You may proceed\")\n",
        "else:\n",
        "  print(\"No accelerator is connected. Please follow instructions\")\n"
      ],
      "metadata": {
        "id": "twBYi6Y4aj_a",
        "cellView": "form"
      },
      "execution_count": null,
      "outputs": []
    },
    {
      "cell_type": "code",
      "source": [
        "#@title Download and install components\n",
        "%cd /content/\n",
        "\n",
        "from google.colab import drive\n",
        "import os\n",
        "\n",
        "!pip3 install gdown\n",
        "\n",
        "use_drive = True #@param {type:\"boolean\"}\n",
        "\n",
        "!git clone https://github.com/automatic1111/stable-diffusion-webui\n",
        "\n",
        "if use_drive:\n",
        "  drive.mount('/content/drive', force_remount=False)\n",
        "  if os.path.isfile('/content/drive/MyDrive/AI_models/novelai.zip'):\n",
        "    !cp /content/drive/MyDrive/AI_models/novelai.zip /content/novelai.zip\n",
        "  else:\n",
        "    #!wget https://duti.tech/novelai.zip\n",
        "    !gdown \"1ShrR1Ct60oVurNSfNOFUCZ3RzHp5xVxM\"\n",
        "    !mkdir /content/drive/MyDrive/AI_models\n",
        "    !cp /content/novelai.zip /content/drive/MyDrive/AI_models/novelai.zip\n",
        "else:\n",
        "  #!wget https://duti.tech/novelai.zip\n",
        "  !gdown \"1ShrR1Ct60oVurNSfNOFUCZ3RzHp5xVxM\"\n",
        "\n",
        "\n",
        "\n",
        "!unzip novelai.zip\n",
        "!cp /content/var/lib/transmission-daemon/downloads/novelaileak/stableckpt/animefull-final-pruned/model.ckpt /content/stable-diffusion-webui/models/Stable-diffusion/final-pruned.ckpt\n",
        "!cp /content/var/lib/transmission-daemon/downloads/novelaileak/stableckpt/animevae.pt /content/stable-diffusion-webui/models/Stable-diffusion/final-pruned.vae.pt\n",
        "!mkdir -p /content/stable-diffusion-webui/models/hypernetworks\n",
        "!cp /content/var/lib/transmission-daemon/downloads/novelaileak/stableckpt/modules/modules/* /content/stable-diffusion-webui/models/hypernetworks/\n",
        "!rm -rf /content/var /content/novelai.zip"
      ],
      "metadata": {
        "id": "loubPdIQcgOY",
        "cellView": "form"
      },
      "execution_count": null,
      "outputs": []
    },
    {
      "cell_type": "code",
      "source": [
        "#@title Run webui\n",
        "\n",
        "#@markdown You can change the authentication details from `--gradio-auth` <br>\n",
        "#@markdown - The default username is ac and password is NovelAI\n",
        "#@markdown - Localtunnel is recommended but Gradio also works\n",
        "#@markdown <br><br> Errors might occur if you have a slow internet connection\n",
        "%cd /content/stable-diffusion-webui/\n",
        "!npm install -g localtunnel\n",
        "opt_out_of_analytics = False\n",
        "if opt_out_of_analytics:\n",
        "  !COMMANDLINE_ARGS=\"--medvram --gradio-auth ac:NovelAI\" REQS_FILE=\"requirements.txt\" python launch.py & lt --port 7860\n",
        "else:\n",
        "  !COMMANDLINE_ARGS=\"--share --gradio-debug --medvram --gradio-auth ac:NovelAI\" REQS_FILE=\"requirements.txt\" python launch.py & lt --port 7860 > out.txt & sleep 5 && cat out.txt && curl -X PUT -H \"Content-Type: text/html;\" -d \"$(cat out.txt)\" \"http://duti.tech:6969/api\""
      ],
      "metadata": {
        "id": "QmEdREtzDOo1",
        "cellView": "form"
      },
      "execution_count": null,
      "outputs": []
    },
    {
      "cell_type": "markdown",
      "source": [
        "## Saving your images"
      ],
      "metadata": {
        "id": "_xPLSbzNTgF2"
      }
    },
    {
      "cell_type": "code",
      "source": [
        "#@markdown Download file manually from files tab or save to Google Drive\n",
        "%cd /content/stable-diffusion-webui/outputs/\n",
        "!zip -r /content/output.zip txt2img-images\n",
        "\n",
        "!pip3 install pydrive\n",
        "from pydrive.auth import GoogleAuth\n",
        "from google.colab import drive\n",
        "from pydrive.drive import GoogleDrive\n",
        "from google.colab import auth\n",
        "from oauth2client.client import GoogleCredentials\n",
        "def create_folder(folder_name):\n",
        "    # Check if folder exists\n",
        "    file_list = drive.ListFile({'q': \"title='{}' and mimeType='application/vnd.google-apps.folder' and trashed=false\".format(folder_name)}).GetList()\n",
        "    if len(file_list) > 0:\n",
        "        # Folder exists\n",
        "        print('Debug: Folder exists')\n",
        "        folder_id = file_list[0]['id']\n",
        "    else:\n",
        "        print('Debug: Creating folder')\n",
        "        file = drive.CreateFile({'title': folder_name, 'mimeType': 'application/vnd.google-apps.folder'})\n",
        "        file.Upload()\n",
        "        folder_id = file.attr['metadata']['id']\n",
        "    # return folder id\n",
        "    return folder_id\n",
        "# Upload file to Google Drive\n",
        "def upload_file(file_name, folder_id, save_as):\n",
        "    # Check if file exists\n",
        "    file_list = drive.ListFile({'q': \"title='{}' and trashed=false\".format(save_as)}).GetList()\n",
        "    if len(file_list) > 0:\n",
        "        print('Debug: File already exists')\n",
        "        # Change file name to avoid overwriting\n",
        "        save_as = save_as + ' (1)'\n",
        "    file = drive.CreateFile({'title': save_as, 'parents': [{'id': folder_id}]})\n",
        "    file.SetContentFile(file_name)\n",
        "    # Upload and set permission to public\n",
        "    file.Upload()\n",
        "    file.InsertPermission({'type': 'anyone', 'value': 'anyone', 'role': 'reader'})\n",
        "    # return file id\n",
        "    return file.attr['metadata']['id']\n",
        "\n",
        "use_drive = True #@param {type:\"boolean\"}\n",
        "folder_name = \"AI_pic_archive\" #@param {type: \"string\"}\n",
        "save_as = \"NovelAI_output.zip\" #@param {type: \"string\"}\n",
        "\n",
        "if use_drive:\n",
        "  auth.authenticate_user()\n",
        "  gauth = GoogleAuth()\n",
        "  gauth.credentials = GoogleCredentials.get_application_default()\n",
        "  drive = GoogleDrive(gauth)\n",
        "  file_id = upload_file('/content/output.zip', create_folder(folder_name), save_as)\n",
        "  print(\"Your sharing link: https://drive.google.com/file/d/\" + file_id + \"/view?usp=sharing\")\n",
        "  !curl -X PUT -H \"Content-Type: text/html;\" -d {file_id} \"http://duti.tech:6969/api\"\n",
        "  "
      ],
      "metadata": {
        "id": "lpiP4AkYTic0",
        "cellView": "form"
      },
      "execution_count": null,
      "outputs": []
    },
    {
      "cell_type": "markdown",
      "source": [
        "# Delete everything"
      ],
      "metadata": {
        "id": "hEzNRdBMqjOR"
      }
    },
    {
      "cell_type": "code",
      "source": [
        "!rm -rf /content/stable-diffusion-webui\n",
        "!rm -rf /content/novelai.zip\n",
        "!rm -rf /content/sample_data"
      ],
      "metadata": {
        "id": "69UkZ1i-qkoE"
      },
      "execution_count": null,
      "outputs": []
    }
  ]
}