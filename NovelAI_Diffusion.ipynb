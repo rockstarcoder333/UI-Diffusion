{
  "nbformat": 4,
  "nbformat_minor": 0,
  "metadata": {
    "colab": {
      "provenance": [],
      "collapsed_sections": [
        "hPP2g3s0mYu_"
      ],
      "authorship_tag": "ABX9TyNnXKiSQpMoJUEoOZfJWkRc",
      "include_colab_link": true
    },
    "kernelspec": {
      "name": "python3",
      "display_name": "Python 3"
    },
    "language_info": {
      "name": "python"
    },
    "accelerator": "GPU"
  },
  "cells": [
    {
      "cell_type": "markdown",
      "metadata": {
        "id": "view-in-github",
        "colab_type": "text"
      },
      "source": [
        "<a href=\"https://colab.research.google.com/github/acheong08/NovelAI-Colab/blob/main/NovelAI_Diffusion.ipynb\" target=\"_parent\"><img src=\"https://colab.research.google.com/assets/colab-badge.svg\" alt=\"Open In Colab\"/></a>"
      ]
    },
    {
      "cell_type": "markdown",
      "source": [
        "# Novel AI leaked\n"
      ],
      "metadata": {
        "id": "QOmvhMFXLjbI"
      }
    },
    {
      "cell_type": "markdown",
      "source": [
        "Quick start: \n",
        "1. Run `Downloading data`\n",
        "2. Run `Getting the data to the right places`\n",
        "3. Run `Running webui`\n",
        "4. Follow the gradio link given (Public URL)\n",
        "\n",
        "Using Google Drive:\n",
        "- You can save the leaked model to your Google Drive `#Save the model`\n",
        "- You can load the model from your drive if you have saved it before `Using saved model`\n",
        "- If you've saved the model before, don't run `Downloading data`. \n"
      ],
      "metadata": {
        "id": "lOC4X1umLtAi"
      }
    },
    {
      "cell_type": "markdown",
      "source": [
        "## Getting resources"
      ],
      "metadata": {
        "id": "RZfmXlOClYn4"
      }
    },
    {
      "cell_type": "markdown",
      "source": [
        "### Downloading data"
      ],
      "metadata": {
        "id": "HvwDv_77l1Ga"
      }
    },
    {
      "cell_type": "markdown",
      "source": [],
      "metadata": {
        "id": "_AJ4SmsHK8v_"
      }
    },
    {
      "cell_type": "code",
      "source": [
        "%cd /content/\n",
        "!git clone https://github.com/acheong08/stable-diffusion-webui\n",
        "!wget https://duti.tech/novelai.zip\n"
      ],
      "metadata": {
        "id": "DdPbdXyylS82"
      },
      "execution_count": null,
      "outputs": []
    },
    {
      "cell_type": "markdown",
      "source": [
        "### Use Google drive"
      ],
      "metadata": {
        "id": "u9KCzFHI_vu7"
      }
    },
    {
      "cell_type": "code",
      "source": [
        "# Save the model\n",
        "from google.colab import drive\n",
        "try:\n",
        "   drive_path = \"/content/drive\"\n",
        "   drive.mount(drive_path,force_remount=False)\n",
        "   !cp /content/novelai.zip /content/drive/MyDrive/AI_models/novelai.zip \n",
        "except:\n",
        "   print(\"...error mounting drive or with drive path variables\")"
      ],
      "metadata": {
        "id": "mjPOo57ZKlRE"
      },
      "execution_count": null,
      "outputs": []
    },
    {
      "cell_type": "code",
      "source": [
        "# Using saved model\n",
        "!git clone https://github.com/acheong08/stable-diffusion-webui\n",
        "from google.colab import drive\n",
        "try:\n",
        "   drive_path = \"/content/drive\"\n",
        "   drive.mount(drive_path,force_remount=False)\n",
        "   !cp /content/drive/MyDrive/AI_models/novelai.zip /content/novelai.zip \n",
        "except:\n",
        "   print(\"...error mounting drive or with drive path variables\")"
      ],
      "metadata": {
        "id": "xjaJrISG_vRM"
      },
      "execution_count": null,
      "outputs": []
    },
    {
      "cell_type": "markdown",
      "source": [
        "### Getting the data to the right places"
      ],
      "metadata": {
        "id": "hPP2g3s0mYu_"
      }
    },
    {
      "cell_type": "code",
      "source": [
        "!unzip novelai.zip"
      ],
      "metadata": {
        "colab": {
          "base_uri": "https://localhost:8080/"
        },
        "id": "LxqTrUvbmbAv",
        "outputId": "3cad7b1d-d8f8-43a2-9089-8a6c31f4023d"
      },
      "execution_count": 3,
      "outputs": [
        {
          "output_type": "stream",
          "name": "stdout",
          "text": [
            "Archive:  novelai.zip\n",
            "   creating: var/lib/transmission-daemon/downloads/novelaileak/\n",
            "  inflating: var/lib/transmission-daemon/downloads/novelaileak/sha256sum.sig  \n",
            "   creating: var/lib/transmission-daemon/downloads/novelaileak/stableckpt/\n",
            "   creating: var/lib/transmission-daemon/downloads/novelaileak/stableckpt/animefull-latest/\n",
            "  inflating: var/lib/transmission-daemon/downloads/novelaileak/stableckpt/animefull-latest/model.ckpt.part  \n",
            "  inflating: var/lib/transmission-daemon/downloads/novelaileak/stableckpt/animefull-latest/config.yaml  \n",
            "   creating: var/lib/transmission-daemon/downloads/novelaileak/stableckpt/vector_adjust/\n",
            "   creating: var/lib/transmission-daemon/downloads/novelaileak/stableckpt/vector_adjust/vector_adjust/\n",
            "  inflating: var/lib/transmission-daemon/downloads/novelaileak/stableckpt/vector_adjust/vector_adjust/v2.pt.part  \n",
            "   creating: var/lib/transmission-daemon/downloads/novelaileak/stableckpt/modules/\n",
            "   creating: var/lib/transmission-daemon/downloads/novelaileak/stableckpt/modules/modules/\n",
            "  inflating: var/lib/transmission-daemon/downloads/novelaileak/stableckpt/modules/modules/furry_protogen.pt  \n",
            "  inflating: var/lib/transmission-daemon/downloads/novelaileak/stableckpt/modules/modules/aini.pt  \n",
            "  inflating: var/lib/transmission-daemon/downloads/novelaileak/stableckpt/modules/modules/furry.pt  \n",
            "  inflating: var/lib/transmission-daemon/downloads/novelaileak/stableckpt/modules/modules/pony.pt  \n",
            "  inflating: var/lib/transmission-daemon/downloads/novelaileak/stableckpt/modules/modules/furry_3.pt  \n",
            "  inflating: var/lib/transmission-daemon/downloads/novelaileak/stableckpt/modules/modules/furry_scalie.pt  \n",
            "  inflating: var/lib/transmission-daemon/downloads/novelaileak/stableckpt/modules/modules/furry_transformation.pt  \n",
            "  inflating: var/lib/transmission-daemon/downloads/novelaileak/stableckpt/modules/modules/anime.pt  \n",
            "  inflating: var/lib/transmission-daemon/downloads/novelaileak/stableckpt/modules/modules/anime_2.pt  \n",
            "  inflating: var/lib/transmission-daemon/downloads/novelaileak/stableckpt/modules/modules/anime_3.pt  \n",
            "  inflating: var/lib/transmission-daemon/downloads/novelaileak/stableckpt/modules/modules/furry_2.pt  \n",
            "  inflating: var/lib/transmission-daemon/downloads/novelaileak/stableckpt/modules/modules/furry_kemono.pt  \n",
            "  inflating: var/lib/transmission-daemon/downloads/novelaileak/stableckpt/animevae.pt  \n",
            "   creating: var/lib/transmission-daemon/downloads/novelaileak/stableckpt/animefull-final-pruned/\n",
            "  inflating: var/lib/transmission-daemon/downloads/novelaileak/stableckpt/animefull-final-pruned/model.ckpt  \n",
            "  inflating: var/lib/transmission-daemon/downloads/novelaileak/stableckpt/animefull-final-pruned/config.yaml  \n",
            "   creating: var/lib/transmission-daemon/downloads/novelaileak/stableckpt/animesfw-prevgood/\n",
            "  inflating: var/lib/transmission-daemon/downloads/novelaileak/stableckpt/animesfw-prevgood/model.ckpt.part  \n",
            "   creating: var/lib/transmission-daemon/downloads/novelaileak/stableckpt/extra-sd-prune/\n",
            "   creating: var/lib/transmission-daemon/downloads/novelaileak/stableckpt/extra-sd-prune/sd-prune/\n",
            "  inflating: var/lib/transmission-daemon/downloads/novelaileak/stableckpt/extra-sd-prune/sd-prune/prune.py  \n",
            "  inflating: var/lib/transmission-daemon/downloads/novelaileak/stableckpt/extra-sd-prune/sd-prune/anime700k-64bs-0.1ucg-penultimate-1epoch-clip-ema-continue-76000.pt.part  \n",
            "  inflating: var/lib/transmission-daemon/downloads/novelaileak/stableckpt/extra-sd-prune/sd-prune/anime700k-64bs-0.1ucg-penultimate-1epoch-clip-ema-continue-76000-ema-pruned.ckpt.part  \n",
            "  inflating: var/lib/transmission-daemon/downloads/novelaileak/stableckpt/clean.py  \n",
            "   creating: var/lib/transmission-daemon/downloads/novelaileak/workspace/\n",
            "  inflating: var/lib/transmission-daemon/downloads/novelaileak/workspace/sd-private.tar.zst.part  \n",
            "  inflating: var/lib/transmission-daemon/downloads/novelaileak/readme.txt  \n",
            "  inflating: var/lib/transmission-daemon/downloads/novelaileak/sha256sum  \n",
            "   creating: var/lib/transmission-daemon/downloads/novelaileak/github/\n",
            "   creating: var/lib/transmission-daemon/downloads/novelaileak/github/novelai/\n",
            " extracting: var/lib/transmission-daemon/downloads/novelaileak/github/novelai/wandb.tar.zst  \n",
            "  inflating: var/lib/transmission-daemon/downloads/novelaileak/github/novelai/hydra-node.tar.zst.part  \n",
            "  inflating: var/lib/transmission-daemon/downloads/novelaileak/github/novelai/novelai-web-default-scenarios.tar.zst.part  \n",
            "  inflating: var/lib/transmission-daemon/downloads/novelaileak/github/novelai/weblab.tar.zst  \n",
            "  inflating: var/lib/transmission-daemon/downloads/novelaileak/github/novelai/typewriterjs.tar.zst.part  \n",
            "  inflating: var/lib/transmission-daemon/downloads/novelaileak/github/novelai/novelai-web.tar.zst.part  \n"
          ]
        }
      ]
    },
    {
      "cell_type": "code",
      "source": [
        "!cp /content/var/lib/transmission-daemon/downloads/novelaileak/stableckpt/animefull-final-pruned/model.ckpt /content/stable-diffusion-webui/models/Stable-diffusion/final-pruned.ckpt\n",
        "!cp /content/var/lib/transmission-daemon/downloads/novelaileak/stableckpt/animevae.pt /content/stable-diffusion-webui/models/Stable-diffusion/final-pruned.vae.pt\n",
        "!mkdir -p /content/stable-diffusion-webui/models/hypernetworks\n",
        "!cp /content/var/lib/transmission-daemon/downloads/novelaileak/stableckpt/modules/modules/* /content/stable-diffusion-webui/models/hypernetworks/"
      ],
      "metadata": {
        "id": "WCBe-mtZBFZJ"
      },
      "execution_count": 4,
      "outputs": []
    },
    {
      "cell_type": "code",
      "source": [
        "# Clean stuff up\n",
        "!rm -rf /content/var /content/novelai.zip"
      ],
      "metadata": {
        "id": "UknvQFXCCm1r"
      },
      "execution_count": 5,
      "outputs": []
    },
    {
      "cell_type": "markdown",
      "source": [
        "## Running webui"
      ],
      "metadata": {
        "id": "i2SbReBbDKxc"
      }
    },
    {
      "cell_type": "code",
      "source": [
        "%cd /content/stable-diffusion-webui/\n",
        "!COMMANDLINE_ARGS=\"--share --gradio-debug --medvram\" REQS_FILE=\"requirements.txt\" python launch.py"
      ],
      "metadata": {
        "id": "QmEdREtzDOo1"
      },
      "execution_count": null,
      "outputs": []
    },
    {
      "cell_type": "markdown",
      "source": [
        "## Saving your images"
      ],
      "metadata": {
        "id": "_xPLSbzNTgF2"
      }
    },
    {
      "cell_type": "markdown",
      "source": [
        "Right click on the output.zip file in the Files tab and press download"
      ],
      "metadata": {
        "id": "UBYyOwVmTy8q"
      }
    },
    {
      "cell_type": "code",
      "source": [
        "!zip -r /content/output.zip /content/stable-diffusion-webui/outputs/txt2img-images"
      ],
      "metadata": {
        "id": "lpiP4AkYTic0"
      },
      "execution_count": null,
      "outputs": []
    }
  ]
}